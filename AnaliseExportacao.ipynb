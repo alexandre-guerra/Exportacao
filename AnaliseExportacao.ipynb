{
 "cells": [
  {
   "cell_type": "code",
   "execution_count": null,
   "metadata": {},
   "outputs": [],
   "source": [
    "import pandas as pd\n",
    "import numpy as np\n",
    "import warnings\n",
    "import plotly.express as px\n",
    "import plotly.graph_objects as go\n",
    "\n",
    "warnings.filterwarnings('ignore')\n",
    "np.random.seed(42)\n",
    "pd.set_option(\"display.max_rows\", None)\n",
    "pd.set_option(\"display.max_columns\", None)\n",
    "pd.options.display.float_format = '{:,.2f}'.format"
   ]
  },
  {
   "cell_type": "markdown",
   "metadata": {},
   "source": [
    "# Trabalhando os Dados Iniciais"
   ]
  },
  {
   "cell_type": "markdown",
   "metadata": {},
   "source": [
    "Critérios de corte Inicial:\n",
    "Importações menores que 1000 litros no total de 15 anos.\n",
    "Países que só fizeram 1 ou 2 compras no período de 15 anos e não foram nos anos de 2021 ou 2022 (Compradores eventuais)\n",
    "Corte da Rússia que causa uma distorção nos dados por conta de um acordo comercial entre Brasil e Rússia que fez o ano de 2009 ter um volume fora da realidade. Sem contar que a indefinição da guerra com a Ukrânia nao inspira confiança em investir em uma parceria neste momento."
   ]
  },
  {
   "cell_type": "code",
   "execution_count": null,
   "metadata": {},
   "outputs": [],
   "source": [
    "df = pd.read_excel('./ExportacaoVinhos.xlsx')\n",
    "df_inicial = df[df.columns[0:31]]\n",
    "df_inicial.head()"
   ]
  },
  {
   "cell_type": "code",
   "execution_count": null,
   "metadata": {},
   "outputs": [],
   "source": [
    "df_inicial.shape"
   ]
  },
  {
   "cell_type": "code",
   "execution_count": null,
   "metadata": {},
   "outputs": [],
   "source": [
    "df_melted = pd.melt(df_inicial, id_vars=['Pais'], var_name='Ano e Valor', value_name='Quantidade')\n",
    "df_melted[['Ano', 'Valor']] = df_melted['Ano e Valor'].str.split('_', expand=True)\n",
    "df_exportacao = df_melted.pivot(index=['Pais', 'Ano'], columns='Valor', values='Quantidade').reset_index()\n",
    "df_exportacao.columns.name = None \n",
    "df_exportacao = df_exportacao.rename(columns={'KG': 'Litros', 'Pais' : 'Destino'})\n",
    "df_exportacao['Origem'] = 'Brasil'\n",
    "df_exportacao['Ano'] = pd.to_datetime(df_exportacao['Ano'], format='%Y')\n",
    "df_exportacao['Litros'] = df_exportacao['Litros'].astype(float)\n",
    "df_exportacao['USD'] = df_exportacao['USD'].astype(float)\n",
    "df_exportacao.head()"
   ]
  },
  {
   "cell_type": "code",
   "execution_count": null,
   "metadata": {},
   "outputs": [],
   "source": [
    "df_exportacao.shape"
   ]
  },
  {
   "cell_type": "code",
   "execution_count": null,
   "metadata": {},
   "outputs": [],
   "source": [
    "df_exportacao.describe()"
   ]
  },
  {
   "cell_type": "code",
   "execution_count": null,
   "metadata": {},
   "outputs": [],
   "source": [
    "df_exportacao.info()"
   ]
  },
  {
   "cell_type": "code",
   "execution_count": null,
   "metadata": {},
   "outputs": [],
   "source": [
    "df_exportacao['Destino'].nunique()"
   ]
  },
  {
   "cell_type": "markdown",
   "metadata": {},
   "source": [
    "#### Anotação: Nos últimos 15 anos nós exportamos vinho para 71 Países."
   ]
  },
  {
   "cell_type": "markdown",
   "metadata": {},
   "source": [
    "# Gerando a Tabela Solicitada Pelo Head de Dados"
   ]
  },
  {
   "cell_type": "code",
   "execution_count": null,
   "metadata": {},
   "outputs": [],
   "source": [
    "df_total_por_pais = df_exportacao.groupby(['Origem','Destino']).sum(['Litros','USD']).sort_values('Litros', ascending=False)\n",
    "df_total_por_pais.reset_index(inplace=True)\n",
    "df_total_por_pais.head()"
   ]
  },
  {
   "cell_type": "code",
   "execution_count": null,
   "metadata": {},
   "outputs": [],
   "source": [
    "df_total_por_pais.to_excel('./ExportacaoVinhosTotais.xlsx', index=False)"
   ]
  },
  {
   "cell_type": "markdown",
   "metadata": {},
   "source": [
    "# Trabalhando com os dados totais dos últimos 15 anos"
   ]
  },
  {
   "cell_type": "code",
   "execution_count": null,
   "metadata": {},
   "outputs": [],
   "source": [
    "df_total_por_pais['USD_por_Litro'] = df_total_por_pais['USD'] / df_total_por_pais['Litros']\n",
    "df_total_por_pais.head(10)"
   ]
  },
  {
   "cell_type": "markdown",
   "metadata": {},
   "source": [
    "### Optei por trabalhar com os dados dos top 10 em volume de exportação que representam 90,82% dos nossos dados."
   ]
  },
  {
   "cell_type": "code",
   "execution_count": null,
   "metadata": {},
   "outputs": [],
   "source": [
    "top10 = df_total_por_pais.sort_values('Litros', ascending=False)['Destino'].head(10).to_list()\n",
    "top10"
   ]
  },
  {
   "cell_type": "code",
   "execution_count": null,
   "metadata": {},
   "outputs": [],
   "source": [
    "df_total_top10 = df_total_por_pais[df_total_por_pais['Destino'].isin(top10)]\n",
    "df_total_top10"
   ]
  },
  {
   "cell_type": "code",
   "execution_count": null,
   "metadata": {},
   "outputs": [],
   "source": [
    "df_exportacao_top10 = df_exportacao[df_exportacao['Destino'].isin(top10)]\n",
    "df_exportacao_top10.head()"
   ]
  },
  {
   "cell_type": "code",
   "execution_count": null,
   "metadata": {},
   "outputs": [],
   "source": [
    "\n",
    "fig = px.bar(df_total_top10, x='Destino', y=['Litros'], title='Distribuição em Volume por Destino')\n",
    "\n",
    "fig.update_layout(\n",
    "    title_font=dict(size=24), \n",
    "    xaxis_title='Países',\n",
    "    xaxis_title_standoff=55,\n",
    "    yaxis_title='Milhões de Litros',\n",
    "    yaxis_type=\"log\",\n",
    "    yaxis_showticklabels=False,\n",
    "    showlegend=False, \n",
    "    template=\"plotly_dark\",\n",
    "     annotations=[\n",
    "        dict(\n",
    "            x=1,\n",
    "            y=-0.32,\n",
    "            xref='paper',\n",
    "            yref='paper',\n",
    "            text='* Escala Logarítmica',\n",
    "            showarrow=False,\n",
    "            font=dict(size=12)\n",
    "        )\n",
    "    ]\n",
    ")\n",
    "\n",
    "fig.update_traces(texttemplate='%{y:.2s}', textposition='outside', textfont_size=10)\n",
    "\n",
    "fig.show()"
   ]
  },
  {
   "cell_type": "code",
   "execution_count": null,
   "metadata": {},
   "outputs": [],
   "source": [
    "fig = px.bar(df_total_top10, x='Destino', y=['USD'], title='Distribuição em Dólares por Destino')\n",
    "\n",
    "fig.update_layout(\n",
    "    title_font=dict(size=24), \n",
    "    xaxis_title='Países',\n",
    "    xaxis_title_standoff=55,\n",
    "    yaxis_title='Milhões de Dólares',\n",
    "    yaxis_type=\"log\",\n",
    "    yaxis_showticklabels=False,\n",
    "    showlegend=False, \n",
    "    template=\"plotly_dark\",\n",
    "     annotations=[\n",
    "        dict(\n",
    "            x=1,\n",
    "            y=-0.32,\n",
    "            xref='paper',\n",
    "            yref='paper',\n",
    "            text='* Escala Logarítmica',\n",
    "            showarrow=False,\n",
    "            font=dict(size=12)\n",
    "        )\n",
    "    ]\n",
    ")\n",
    "\n",
    "fig.update_traces(texttemplate='US$ %{y:.2s}', textposition='outside', textfont_size=10)\n",
    "\n",
    "fig.show()"
   ]
  },
  {
   "cell_type": "code",
   "execution_count": null,
   "metadata": {},
   "outputs": [],
   "source": [
    "fig = px.bar(df_total_top10.sort_values(by='USD_por_Litro',ascending=False), x='Destino', y=['USD_por_Litro'], title='Valor em Dolar por Litro no Destino')\n",
    "\n",
    "fig.update_layout(\n",
    "    title_font=dict(size=24), \n",
    "    xaxis_title='Países',\n",
    "    xaxis_title_standoff=55,\n",
    "    yaxis_title='Dólares',\n",
    "    yaxis_type=\"log\",\n",
    "    yaxis_showticklabels=False,\n",
    "    showlegend=False, \n",
    "    template=\"plotly_dark\",\n",
    "     annotations=[\n",
    "        dict(\n",
    "            x=1,\n",
    "            y=-0.32,\n",
    "            xref='paper',\n",
    "            yref='paper',\n",
    "            text='* Escala Logarítmica',\n",
    "            showarrow=False,\n",
    "            font=dict(size=12)\n",
    "        )\n",
    "    ]\n",
    ")\n",
    "\n",
    "fig.update_traces(texttemplate='US$ %{y:.2s}', textposition='outside', textfont_size=10)\n",
    "\n",
    "fig.show()"
   ]
  },
  {
   "cell_type": "code",
   "execution_count": null,
   "metadata": {},
   "outputs": [],
   "source": [
    "df_producao_exportacao = pd.read_excel('./ProducaoExportacao.xlsx')\n",
    "df_producao_exportacao['Ano'] = pd.to_datetime(df_producao_exportacao['Ano'], format='%Y')\n",
    "df_producao_exportacao['Produzido'] = df_producao_exportacao['Produzido'].astype(float)\n",
    "df_producao_exportacao['Exportado'] = df_producao_exportacao['Exportado'].astype(float)\n",
    "df_producao_exportacao['PTAX'] = df_producao_exportacao['PTAX'].astype(float)\n",
    "df_producao_exportacao.head()"
   ]
  },
  {
   "cell_type": "code",
   "execution_count": null,
   "metadata": {},
   "outputs": [],
   "source": [
    "fig = px.bar(df_producao_exportacao.sort_values(by='Ano',ascending=False), x='Ano', y=['Produzido','Exportado'], title='Produzido vs Exportado', barmode='group')\n",
    "\n",
    "fig.update_layout(\n",
    "    title_font=dict(size=24), \n",
    "    xaxis_title='Anos',\n",
    "    xaxis_title_standoff=55,\n",
    "    yaxis_title='Milhões de Litros',\n",
    "    yaxis_type=\"log\",\n",
    "    yaxis_showticklabels=False,\n",
    "    template=\"plotly_dark\",\n",
    "    xaxis=dict(tickvals=df_producao_exportacao['Ano'], ticktext=df_producao_exportacao['Ano'].dt.year),\n",
    "     annotations=[\n",
    "        dict(\n",
    "            x=1,\n",
    "            y=-0.32,\n",
    "            xref='paper',\n",
    "            yref='paper',\n",
    "            text='* Escala Logarítmica',\n",
    "            showarrow=False,\n",
    "            font=dict(size=12)\n",
    "        )\n",
    "    ]\n",
    ")\n",
    "\n",
    "fig.update_traces(texttemplate='%{y:.2s}', textposition='outside', textfont_size=10)\n",
    "\n",
    "\n",
    "\n",
    "fig.show()"
   ]
  },
  {
   "cell_type": "code",
   "execution_count": null,
   "metadata": {},
   "outputs": [],
   "source": [
    "fig = go.Figure()\n",
    "fig.add_trace(go.Bar(x=df_producao_exportacao['Ano'], y=df_producao_exportacao['Produzido'], name='Produzido'))\n",
    "fig.update_traces(texttemplate='%{y:.2s}', textposition='outside', textfont_size=10)\n",
    "fig.add_trace(go.Scatter(x=df_producao_exportacao['Ano'], y=df_producao_exportacao['Produzido'], mode='lines', name='Tendência', line=dict(color='red')))\n",
    "\n",
    "fig.update_layout(title='Variação da Produção Anual com Linha de Tendência',\n",
    "                  barmode='group',\n",
    "                  title_font=dict(size=24), \n",
    "                  xaxis_title='Anos',\n",
    "                  xaxis_title_standoff=55,\n",
    "                  yaxis_type=\"log\",\n",
    "                  yaxis_showticklabels=False,\n",
    "                  showlegend=False, \n",
    "                  yaxis_title='Produção em Milhões de Litros',\n",
    "                  template=\"plotly_dark\",\n",
    "                  xaxis=dict(tickvals=df_producao_exportacao['Ano'], ticktext=df_producao_exportacao['Ano'].dt.year),\n",
    "                  annotations=[\n",
    "                        dict(\n",
    "                            x=1,\n",
    "                            y=-0.32,\n",
    "                            xref='paper',\n",
    "                            yref='paper',\n",
    "                            text='* Escala Logarítmica',\n",
    "                            showarrow=False,\n",
    "                            font=dict(size=12)\n",
    "                        )\n",
    "                    ])\n",
    "\n",
    "fig.show()"
   ]
  },
  {
   "cell_type": "markdown",
   "metadata": {},
   "source": [
    "#### Observação: Em 2016, a safra de uvas teve uma das maiores quebras registradas, com uma redução de 57% em relação ao ano anterior, equivalente, aproximadamente, a 300 milhões de quilos de uvas no território gaúcho. A principal causa da quebra histórica no ano 2016 foi uma série de acontecimentos climáticos que prejudicaram o desenvolvimento das uvas ao longo do ano, como geadas e excesso de chuvas."
   ]
  },
  {
   "cell_type": "code",
   "execution_count": null,
   "metadata": {},
   "outputs": [],
   "source": [
    "fig = go.Figure()\n",
    "fig.add_trace(go.Bar(x=df_producao_exportacao['Ano'], y=df_producao_exportacao['Exportado'], name='Exportado'))\n",
    "fig.update_traces(texttemplate='%{y:.2s}', textposition='outside', textfont_size=10)\n",
    "fig.add_trace(go.Scatter(x=df_producao_exportacao['Ano'], y=df_producao_exportacao['Exportado'], mode='lines', name='Tendência', line=dict(color='red')))\n",
    "fig.update_layout(title='Variação da Exportação Anual com Linha de Tendência',\n",
    "                  barmode='group',\n",
    "                  title_font=dict(size=24), \n",
    "                  xaxis_title='Anos',\n",
    "                  xaxis_title_standoff=55,\n",
    "                  yaxis_type=\"log\",\n",
    "                  yaxis_showticklabels=False,\n",
    "                  showlegend=False, \n",
    "                  yaxis_title='Exportação em Milhões de Litros',\n",
    "                  template=\"plotly_dark\",\n",
    "                  xaxis=dict(tickvals=df_producao_exportacao['Ano'], ticktext=df_producao_exportacao['Ano'].dt.year),\n",
    "                  annotations=[\n",
    "                        dict(\n",
    "                            x=1,\n",
    "                            y=-0.32,\n",
    "                            xref='paper',\n",
    "                            yref='paper',\n",
    "                            text='* Escala Logarítmica',\n",
    "                            showarrow=False,\n",
    "                            font=dict(size=12)\n",
    "                        )\n",
    "                    ])\n",
    "\n",
    "fig.show()"
   ]
  },
  {
   "cell_type": "code",
   "execution_count": null,
   "metadata": {},
   "outputs": [],
   "source": [
    "fig = go.Figure()\n",
    "fig.add_trace(go.Bar(x=df_producao_exportacao['Ano'], y=df_producao_exportacao['PTAX'], name='PTAX'))\n",
    "fig.update_traces(texttemplate='%{y:.4s}', textposition='outside', textfont_size=10)\n",
    "fig.add_trace(go.Scatter(x=df_producao_exportacao['Ano'], y=df_producao_exportacao['PTAX'], mode='lines', name='Tendência', line=dict(color='red')))\n",
    "fig.update_layout(title='Variação da PTAX Anual com Linha de Tendência',\n",
    "                  yaxis_title='PTAX',\n",
    "                  barmode='group',\n",
    "                  title_font=dict(size=24), \n",
    "                  xaxis_title='Anos',\n",
    "                  yaxis_type=\"log\",\n",
    "                  xaxis_title_standoff=55,\n",
    "                  yaxis_showticklabels=False,\n",
    "                  showlegend=False,\n",
    "                  template=\"plotly_dark\",\n",
    "                  xaxis=dict(tickvals=df_producao_exportacao['Ano'], ticktext=df_producao_exportacao['Ano'].dt.year),\n",
    "                  annotations=[\n",
    "                        dict(\n",
    "                            x=1,\n",
    "                            y=-0.32,\n",
    "                            xref='paper',\n",
    "                            yref='paper',\n",
    "                            text='* Escala Logarítmica',\n",
    "                            showarrow=False,\n",
    "                            font=dict(size=12)\n",
    "                        )\n",
    "                    ])\n",
    "\n",
    "fig.show()"
   ]
  },
  {
   "cell_type": "code",
   "execution_count": null,
   "metadata": {},
   "outputs": [],
   "source": [
    "total_produzido = df_producao_exportacao['Produzido'].sum()\n",
    "total_exportado = df_producao_exportacao['Exportado'].sum()\n",
    "dolar_medio = df_producao_exportacao['PTAX'].mean()\n",
    "percentual_exportado= (total_exportado/total_produzido) * 100\n",
    "\n",
    "print(f\"Total Produzido: {total_produzido}\")\n",
    "print(f\"Total Exportado: {total_exportado}\")\n",
    "print(f\"Percentual Exportado: {percentual_exportado}\")\n",
    "print(f\"Dolar Médio: {dolar_medio}\")"
   ]
  },
  {
   "cell_type": "markdown",
   "metadata": {},
   "source": [
    "# Pegando dados de consumo, importação, exportação inflação projetada e produção do top 10"
   ]
  },
  {
   "cell_type": "code",
   "execution_count": null,
   "metadata": {},
   "outputs": [],
   "source": [
    "df_dados_top10 = pd.read_excel('./top10.xlsx')\n",
    "df_dados_top10['Ano'] = pd.to_datetime(df_dados_top10['Ano'], format='%Y')\n",
    "df_dados_top10['Litros'] = df_dados_top10['Litros'].astype(float)\n",
    "df_dados_top10.head(10)"
   ]
  },
  {
   "cell_type": "code",
   "execution_count": null,
   "metadata": {},
   "outputs": [],
   "source": [
    "df_pivot = df_dados_top10.pivot_table(index=['Ano', 'Pais'], columns='Variavel', values='Litros', aggfunc='sum').reset_index()\n",
    "df_pivot.fillna(0, inplace=True)\n",
    "df_pivot['Saldo'] =  df_pivot['Produção'] + df_pivot['Importação'] - df_pivot['Exportação'] - df_pivot['Consumo']\n",
    "df_pivot.head()"
   ]
  },
  {
   "cell_type": "code",
   "execution_count": null,
   "metadata": {},
   "outputs": [],
   "source": [
    "df_economia_top10 = pd.read_excel('./WEO_Data.xlsx')\n",
    "df_economia_top10['Ano'] = pd.to_datetime(df_economia_top10['Ano'], format='%Y')\n",
    "df_pivot_economia = df_economia_top10.pivot_table(index=['Ano', 'Pais'], columns='Variavel', values='Percentual', aggfunc='sum').reset_index()\n",
    "df_pivot_economia.fillna(0, inplace=True)\n",
    "df_pivot_economia.head()"
   ]
  },
  {
   "cell_type": "code",
   "execution_count": null,
   "metadata": {},
   "outputs": [],
   "source": [
    "\n",
    "figs = []\n",
    "\n",
    "for pais in df_pivot['Pais'].unique():\n",
    "    df_temp = df_pivot[df_pivot['Pais'] == pais]\n",
    "    df_temp2 = df_exportacao_top10[df_exportacao_top10['Destino'] == pais]\n",
    "    \n",
    "    fig2 = px.bar(df_temp2, \n",
    "                  x='Ano', \n",
    "                  y='Litros', \n",
    "                  title=f'Brasil para {pais} por ano',\n",
    "                  labels={'Litros': 'Litros Exportados', 'Ano': 'Ano'})\n",
    "    \n",
    "    fig2.update_layout(title=f'Brasil para {pais} por ano',\n",
    "                      xaxis_title='Ano',\n",
    "                      yaxis_title='Litros',\n",
    "                      xaxis_tickangle=-45,\n",
    "                      legend_title_text='',\n",
    "                      yaxis_type=\"log\",\n",
    "                      xaxis_title_standoff=30,\n",
    "                      title_font=dict(size=24), \n",
    "                      template=\"plotly_dark\",\n",
    "                      showlegend=False, \n",
    "                      yaxis_showticklabels=False,\n",
    "                      xaxis=dict(tickvals=df_temp['Ano'], ticktext=df_temp['Ano'].dt.year),\n",
    "                      annotations=[\n",
    "                        dict(\n",
    "                            x=1,\n",
    "                            y=-0.32,\n",
    "                            xref='paper',\n",
    "                            yref='paper',\n",
    "                            text='* Escala Logarítmica',\n",
    "                            showarrow=False,\n",
    "                            font=dict(size=12)\n",
    "                        )\n",
    "                    ])\n",
    "    \n",
    "    fig2.update_traces(texttemplate='%{y:.2s}', textposition='outside', textfont_size=10)\n",
    "\n",
    "    fig = px.bar(df_temp,\n",
    "                 x=\"Ano\",\n",
    "                 y=[\"Consumo\", \"Importação\", \"Produção\", \"Exportação\"],\n",
    "                 color_discrete_sequence=[\"blue\", \"green\", \"red\",\"orange\"],\n",
    "                 barmode=\"group\")\n",
    "    \n",
    "    fig.update_layout(title=f'Dados - {pais}',\n",
    "                      xaxis_title='Ano',\n",
    "                      yaxis_title='Litros',\n",
    "                      xaxis_tickangle=-45,\n",
    "                      legend_title_text='',\n",
    "                      yaxis_type=\"log\",\n",
    "                      xaxis_title_standoff=30,\n",
    "                      title_font=dict(size=24), \n",
    "                      template=\"plotly_dark\",\n",
    "                      xaxis=dict(tickvals=df_temp['Ano'], ticktext=df_temp['Ano'].dt.year),\n",
    "                      annotations=[\n",
    "                        dict(\n",
    "                            x=1,\n",
    "                            y=-0.32,\n",
    "                            xref='paper',\n",
    "                            yref='paper',\n",
    "                            text='* Escala Logarítmica',\n",
    "                            showarrow=False,\n",
    "                            font=dict(size=12)\n",
    "                        )\n",
    "                    ])\n",
    "\n",
    "    fig1 = go.Figure()\n",
    "    fig1.add_trace(go.Bar(x=df_temp['Ano'], y=df_temp['Saldo'], name='Saldo'))\n",
    "    fig1.update_traces(texttemplate='%{y:.2s}', textposition='outside', textfont_size=10)\n",
    "    fig1.add_trace(go.Scatter(x=df_temp['Ano'], y=df_temp['Saldo'], mode='lines', name='Tendência', line=dict(color='red')))\n",
    "    \n",
    "    fig1.update_layout(title=f'Saldo Anual com Linha de Tendência - {pais}',\n",
    "                    xaxis_title='Ano',\n",
    "                    yaxis_title='Litros',\n",
    "                    legend_title_text='',\n",
    "                    showlegend=False, \n",
    "                    title_font=dict(size=24),\n",
    "                    xaxis_title_standoff=30,\n",
    "                    template=\"plotly_dark\",\n",
    "                    xaxis_tickangle=-45,\n",
    "                    xaxis=dict(tickvals=df_pivot['Ano'], ticktext=df_pivot['Ano'].dt.year),\n",
    "                    )\n",
    "    \n",
    "    \n",
    "    \n",
    "    fig3 = go.Figure()\n",
    "    subset = df_pivot_economia[df_pivot_economia['Pais'] == pais]\n",
    "    fig3.add_trace(go.Scatter(x=subset['Ano'], y=subset['Inflação'],\n",
    "                    mode='lines+markers',\n",
    "                    name=pais))\n",
    "\n",
    "    fig3.update_layout(title=f'Projeção de Inflação nos Próximos anos - {pais}',\n",
    "                    xaxis_title='Ano',\n",
    "                    yaxis_title='Inflação (%)',\n",
    "                    title_font=dict(size=24),\n",
    "                    xaxis_title_standoff=30,\n",
    "                    template=\"plotly_dark\",\n",
    "                    xaxis=dict(tickvals=subset['Ano'], ticktext=subset['Ano'].dt.year))\n",
    "\n",
    "    figs.append(fig)\n",
    "    figs.append(fig1)\n",
    "    figs.append(fig2)\n",
    "    figs.append(fig3)\n",
    "\n",
    "for fig in figs:\n",
    "    fig.show()\n",
    "\n",
    "\n"
   ]
  }
 ],
 "metadata": {
  "kernelspec": {
   "display_name": "Python 3",
   "language": "python",
   "name": "python3"
  },
  "language_info": {
   "codemirror_mode": {
    "name": "ipython",
    "version": 3
   },
   "file_extension": ".py",
   "mimetype": "text/x-python",
   "name": "python",
   "nbconvert_exporter": "python",
   "pygments_lexer": "ipython3",
   "version": "3.11.3"
  }
 },
 "nbformat": 4,
 "nbformat_minor": 2
}
